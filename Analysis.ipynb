{
 "cells": [
  {
   "cell_type": "code",
   "execution_count": null,
   "metadata": {},
   "outputs": [],
   "source": [
    "import pandas as pd\n",
    "import numpy as np\n",
    "import matplotlib.pyplot as plt\n",
    "from datetime import datetime, timedelta"
   ]
  },
  {
   "cell_type": "code",
   "execution_count": null,
   "metadata": {},
   "outputs": [],
   "source": [
    "df = pd.read_csv('./data/cleaned_data.csv')"
   ]
  },
  {
   "cell_type": "code",
   "execution_count": null,
   "metadata": {},
   "outputs": [],
   "source": [
    "df = df.drop(['Unnamed: 0'], axis=1)"
   ]
  },
  {
   "cell_type": "code",
   "execution_count": null,
   "metadata": {},
   "outputs": [],
   "source": [
    "df.head()"
   ]
  },
  {
   "cell_type": "code",
   "execution_count": null,
   "metadata": {},
   "outputs": [],
   "source": [
    "plt.figure(figsize=(40, 10))\n",
    "by_zipcode = df.groupby(['zipcode_of_incident'])\n",
    "y_pos = np.arange(len(by_zipcode))\n",
    "zipcode_response_times = by_zipcode['response_time'].mean()\n",
    "plt.title('Response Time by Zipcode')\n",
    "fig = plt.bar(y_pos, zipcode_response_times, align='center')\n",
    "plt.xticks(y_pos, by_zipcode.groups.keys())\n",
    "plt.ylabel('Response Time')\n",
    "plt.xlabel('Zipcode of Incident')"
   ]
  },
  {
   "cell_type": "code",
   "execution_count": null,
   "metadata": {},
   "outputs": [],
   "source": []
  },
  {
   "cell_type": "code",
   "execution_count": null,
   "metadata": {},
   "outputs": [],
   "source": [
    "def parse_time(time):\n",
    "    '''\n",
    "    Parses time string, returns a datetime object\n",
    "    '''\n",
    "    f = \"%Y-%m-%d %H:%M:%S.%f\"\n",
    "    return datetime.strptime(time[:-4], f)"
   ]
  },
  {
   "cell_type": "code",
   "execution_count": null,
   "metadata": {},
   "outputs": [],
   "source": [
    "def response_time(x):\n",
    "    '''\n",
    "    Takes in row in the dataframe, returns response time in seconds.\n",
    "    '''\n",
    "    if type(x.on_scene_timestamp) == float: return float('nan')\n",
    "    return (parse_time(x.on_scene_timestamp)-parse_time(x.received_timestamp)).total_seconds()\n"
   ]
  },
  {
   "cell_type": "code",
   "execution_count": null,
   "metadata": {},
   "outputs": [],
   "source": [
    "def to_seconds(x):\n",
    "    x = parse_time(x)\n",
    "    return x.hour*3600 + x.minute*60 + x.second"
   ]
  },
  {
   "cell_type": "code",
   "execution_count": null,
   "metadata": {},
   "outputs": [],
   "source": [
    "df['response_time'] = df.apply(response_time, axis=1)"
   ]
  },
  {
   "cell_type": "code",
   "execution_count": null,
   "metadata": {},
   "outputs": [],
   "source": [
    "df['day'] = df.apply(lambda x: parse_time(x.dispatch_timestamp).day, axis=1)"
   ]
  },
  {
   "cell_type": "code",
   "execution_count": null,
   "metadata": {},
   "outputs": [],
   "source": [
    "np.max(days)"
   ]
  },
  {
   "cell_type": "code",
   "execution_count": null,
   "metadata": {},
   "outputs": [],
   "source": [
    "np.min(days)"
   ]
  },
  {
   "cell_type": "code",
   "execution_count": null,
   "metadata": {},
   "outputs": [],
   "source": [
    "df.to_csv('./data/cleaned_data.csv', index_label=False)"
   ]
  },
  {
   "cell_type": "code",
   "execution_count": null,
   "metadata": {},
   "outputs": [],
   "source": [
    "'''\n",
    "Extracts the different call-types.\n",
    "'''\n",
    "ct = df.groupby(['call_type'])\n",
    "ct.groups.keys()"
   ]
  },
  {
   "cell_type": "code",
   "execution_count": null,
   "metadata": {},
   "outputs": [],
   "source": [
    "by_zipcode = df.groupby(['zipcode_of_incident'])\n",
    "y_pos = np.arange(len(by_zipcode))\n",
    "zipcode_response_times = by_zipcode['response_time'].mean()"
   ]
  },
  {
   "cell_type": "code",
   "execution_count": null,
   "metadata": {
    "scrolled": true
   },
   "outputs": [],
   "source": [
    "plt.figure(figsize=(20, 3))\n",
    "plt.title('Response Time by Zipcode')\n",
    "plt.bar(y_pos, zipcode_response_times, align='center')\n",
    "plt.xticks(y_pos, by_zipcode.groups.keys())\n",
    "plt.ylabel('Response Time')\n",
    "plt.xlabel('Zipcode of Incident')"
   ]
  },
  {
   "cell_type": "code",
   "execution_count": null,
   "metadata": {},
   "outputs": [],
   "source": [
    "by_call_type = df.groupby(['call_type'])\n",
    "by_call_type.groups.keys()"
   ]
  },
  {
   "cell_type": "code",
   "execution_count": null,
   "metadata": {},
   "outputs": [],
   "source": []
  }
 ],
 "metadata": {
  "kernelspec": {
   "display_name": "Python 2",
   "language": "python",
   "name": "python2"
  },
  "language_info": {
   "codemirror_mode": {
    "name": "ipython",
    "version": 2
   },
   "file_extension": ".py",
   "mimetype": "text/x-python",
   "name": "python",
   "nbconvert_exporter": "python",
   "pygments_lexer": "ipython2",
   "version": "2.7.14"
  }
 },
 "nbformat": 4,
 "nbformat_minor": 2
}
